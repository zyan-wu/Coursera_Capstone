{
    "cells": [
        {
            "metadata": {
                "collapsed": true
            },
            "cell_type": "markdown",
            "source": "# 1. Introduction\n## 1.1 Background\nNew york is one of the world's biggest city with millisons of people live in it. People need different business of venues in the city. For a venue, you have to pick the right place to open the business in order to be successful. It is valuable to predict where is appropiate to open a specific business.\n## 1.2 Problem\n\nData that might contribute to determining where to open a business might include the location, existing other venues, the number of other venues, and the rating of them. This project aims to predict where a neighorhood is good for a certain venue like restaurant.\n## 1.3 Interest\nIt is clear that those who want to open any kind of venue would be interested in where is good to open their business.\n\n# 2. Data acquisition\n## 2.1 Data source\n\nWe get the neighborhood information from https://cocl.us/new_york_dataset. However, we don't have the business information from the dataset. So we need to get venue information from foursquare based on the center location of the neighborhood.\n\n## 2.2 Data cleaning\n\nData downloaded or scraped from both the webpage.\n\nFirst, we don't have the location information from the data, so we need to look up the latitude and longitude from google programatically to fill in the table.\n\nSecond, we use the foursquare to look up top 100 popular venues in one neighborhood and then one-hot-encode them. \n\n\n## 2.3 Feature selection\n\nThere are a few issues with the features. \n\nFirst, the category is so sparse like resturants are splitted into many small categories, etc garden or shop. So first I need to merge them if they all belong to the same category.\n\nSecond, there is still some categories that is so small in all neighborhood. Which I believe they are outliers, I'll make them categorized into one big category, called other buniness.\n"
        },
        {
            "metadata": {},
            "cell_type": "code",
            "source": "",
            "execution_count": null,
            "outputs": []
        }
    ],
    "metadata": {
        "kernelspec": {
            "name": "python3",
            "display_name": "Python 3.6",
            "language": "python"
        },
        "language_info": {
            "name": "python",
            "version": "3.6.8",
            "mimetype": "text/x-python",
            "codemirror_mode": {
                "name": "ipython",
                "version": 3
            },
            "pygments_lexer": "ipython3",
            "nbconvert_exporter": "python",
            "file_extension": ".py"
        }
    },
    "nbformat": 4,
    "nbformat_minor": 1
}